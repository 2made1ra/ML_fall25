{
 "cells": [
  {
   "cell_type": "markdown",
   "id": "2c6c894c",
   "metadata": {},
   "source": [
    "# Лабораторная работа 1. Визуализация и предварительная обработка данных."
   ]
  },
  {
   "cell_type": "markdown",
   "id": "6ffc9220",
   "metadata": {},
   "source": [
    "### Жунёв Андрей Александрович РИМ-150950"
   ]
  },
  {
   "cell_type": "markdown",
   "id": "3dace6c7",
   "metadata": {},
   "source": [
    "## Введение"
   ]
  },
  {
   "cell_type": "markdown",
   "id": "f0517382",
   "metadata": {},
   "source": [
    "### 1. Описание задачи"
   ]
  },
  {
   "cell_type": "markdown",
   "id": "69038611",
   "metadata": {},
   "source": [
    "В рамках задания, я выбрал решать задачу регрессии - в качестве целевой переменной для предсказания выбрана переменная Financial Loss, т.е. финансовый ущерб от кибератаки.\n",
    "\n",
    "Оценка ущерба может позволить бизнесу лучше спланировать защитные меры, определить бюджеты безопасности, поэтому, эта задача мне кажется актуальной."
   ]
  },
  {
   "cell_type": "markdown",
   "id": "9b1726a2",
   "metadata": {},
   "source": [
    "### 2. Описание датасета"
   ]
  },
  {
   "cell_type": "markdown",
   "id": "03744346",
   "metadata": {},
   "source": [
    "Для выполнения работы, мною был выбран датасет с kaggle, в котором агреггированы сведения об угрозах глобальной кибербезопасности в период между 2015 и 2024 годами. Датасет содержити 10 признаков и около ~3000 записей. Также, имеются как категориальные, так и числовые признаки, что хорошо подходит для обучения работы с разными видами данных."
   ]
  },
  {
   "cell_type": "markdown",
   "id": "cb19f625",
   "metadata": {},
   "source": [
    "Ссылка на сам датасет: https://www.kaggle.com/datasets/atharvasoundankar/global-cybersecurity-threats-2015-2024"
   ]
  },
  {
   "cell_type": "markdown",
   "id": "baa68faf",
   "metadata": {},
   "source": [
    "## Подготовка среды разработки"
   ]
  },
  {
   "cell_type": "markdown",
   "id": "5294ad62",
   "metadata": {},
   "source": [
    "### 1. Импорт библиотек"
   ]
  },
  {
   "cell_type": "markdown",
   "id": "afcf838a",
   "metadata": {},
   "source": [
    "Основные библиотеки для работы с данными и визуализацией:\n",
    "- pandas\n",
    "- numpy\n",
    "- matplotlib\n",
    "- seaborn\n",
    "\n",
    "Машинное обучение и предобработка данных:\n",
    "- scikit-learn"
   ]
  },
  {
   "cell_type": "code",
   "execution_count": 1,
   "id": "df307a29",
   "metadata": {},
   "outputs": [],
   "source": [
    "import kagglehub\n",
    "import pandas as pd\n",
    "import numpy as np\n",
    "import matplotlib.pyplot as plt\n",
    "import seaborn as sns"
   ]
  },
  {
   "cell_type": "code",
   "execution_count": 2,
   "id": "36825405",
   "metadata": {},
   "outputs": [],
   "source": [
    "# предварительная обработка числовых признаков\n",
    "from sklearn.preprocessing import MinMaxScaler # Импортируем нормализацию от scikit-learn\n",
    "from sklearn.preprocessing import StandardScaler # Импортируем стандартизацию от scikit-learn\n",
    "from sklearn.preprocessing import PowerTransformer  # Степенное преобразование от scikit-learn\n",
    "\n",
    "# предварительная обработка категориальных признаков\n",
    "from sklearn.preprocessing import OneHotEncoder # Импортируем One-Hot Encoding от scikit-learn\n",
    "from sklearn.preprocessing import OrdinalEncoder # Импортируем Порядковое кодированиеот scikit-learn\n",
    "\n",
    "from sklearn.pipeline import Pipeline # Pipeline. Ни добавить, ни убавить\n",
    "\n",
    "from sklearn.compose import ColumnTransformer # т.н. преобразователь колонок\n",
    "\n",
    "from sklearn.base import BaseEstimator, TransformerMixin # для создания собственных преобразователей / трансформеров данных"
   ]
  },
  {
   "cell_type": "markdown",
   "id": "ef504157",
   "metadata": {},
   "source": [
    "### 2. Загрузка данных"
   ]
  },
  {
   "cell_type": "markdown",
   "id": "08138627",
   "metadata": {},
   "source": [
    "Данные предварительно были загружены мной с kaggle и помещены в корень проекта"
   ]
  },
  {
   "cell_type": "code",
   "execution_count": 3,
   "id": "9524584a",
   "metadata": {},
   "outputs": [
    {
     "data": {
      "text/html": [
       "<div>\n",
       "<style scoped>\n",
       "    .dataframe tbody tr th:only-of-type {\n",
       "        vertical-align: middle;\n",
       "    }\n",
       "\n",
       "    .dataframe tbody tr th {\n",
       "        vertical-align: top;\n",
       "    }\n",
       "\n",
       "    .dataframe thead th {\n",
       "        text-align: right;\n",
       "    }\n",
       "</style>\n",
       "<table border=\"1\" class=\"dataframe\">\n",
       "  <thead>\n",
       "    <tr style=\"text-align: right;\">\n",
       "      <th></th>\n",
       "      <th>Country</th>\n",
       "      <th>Year</th>\n",
       "      <th>Attack Type</th>\n",
       "      <th>Target Industry</th>\n",
       "      <th>Financial Loss (in Million $)</th>\n",
       "      <th>Number of Affected Users</th>\n",
       "      <th>Attack Source</th>\n",
       "      <th>Security Vulnerability Type</th>\n",
       "      <th>Defense Mechanism Used</th>\n",
       "      <th>Incident Resolution Time (in Hours)</th>\n",
       "    </tr>\n",
       "  </thead>\n",
       "  <tbody>\n",
       "    <tr>\n",
       "      <th>0</th>\n",
       "      <td>China</td>\n",
       "      <td>2019</td>\n",
       "      <td>Phishing</td>\n",
       "      <td>Education</td>\n",
       "      <td>80.53</td>\n",
       "      <td>773169</td>\n",
       "      <td>Hacker Group</td>\n",
       "      <td>Unpatched Software</td>\n",
       "      <td>VPN</td>\n",
       "      <td>63</td>\n",
       "    </tr>\n",
       "    <tr>\n",
       "      <th>1</th>\n",
       "      <td>China</td>\n",
       "      <td>2019</td>\n",
       "      <td>Ransomware</td>\n",
       "      <td>Retail</td>\n",
       "      <td>62.19</td>\n",
       "      <td>295961</td>\n",
       "      <td>Hacker Group</td>\n",
       "      <td>Unpatched Software</td>\n",
       "      <td>Firewall</td>\n",
       "      <td>71</td>\n",
       "    </tr>\n",
       "    <tr>\n",
       "      <th>2</th>\n",
       "      <td>India</td>\n",
       "      <td>2017</td>\n",
       "      <td>Man-in-the-Middle</td>\n",
       "      <td>IT</td>\n",
       "      <td>38.65</td>\n",
       "      <td>605895</td>\n",
       "      <td>Hacker Group</td>\n",
       "      <td>Weak Passwords</td>\n",
       "      <td>VPN</td>\n",
       "      <td>20</td>\n",
       "    </tr>\n",
       "    <tr>\n",
       "      <th>3</th>\n",
       "      <td>UK</td>\n",
       "      <td>2024</td>\n",
       "      <td>Ransomware</td>\n",
       "      <td>Telecommunications</td>\n",
       "      <td>41.44</td>\n",
       "      <td>659320</td>\n",
       "      <td>Nation-state</td>\n",
       "      <td>Social Engineering</td>\n",
       "      <td>AI-based Detection</td>\n",
       "      <td>7</td>\n",
       "    </tr>\n",
       "    <tr>\n",
       "      <th>4</th>\n",
       "      <td>Germany</td>\n",
       "      <td>2018</td>\n",
       "      <td>Man-in-the-Middle</td>\n",
       "      <td>IT</td>\n",
       "      <td>74.41</td>\n",
       "      <td>810682</td>\n",
       "      <td>Insider</td>\n",
       "      <td>Social Engineering</td>\n",
       "      <td>VPN</td>\n",
       "      <td>68</td>\n",
       "    </tr>\n",
       "    <tr>\n",
       "      <th>...</th>\n",
       "      <td>...</td>\n",
       "      <td>...</td>\n",
       "      <td>...</td>\n",
       "      <td>...</td>\n",
       "      <td>...</td>\n",
       "      <td>...</td>\n",
       "      <td>...</td>\n",
       "      <td>...</td>\n",
       "      <td>...</td>\n",
       "      <td>...</td>\n",
       "    </tr>\n",
       "    <tr>\n",
       "      <th>2995</th>\n",
       "      <td>UK</td>\n",
       "      <td>2021</td>\n",
       "      <td>Ransomware</td>\n",
       "      <td>Government</td>\n",
       "      <td>51.42</td>\n",
       "      <td>190694</td>\n",
       "      <td>Unknown</td>\n",
       "      <td>Social Engineering</td>\n",
       "      <td>Firewall</td>\n",
       "      <td>52</td>\n",
       "    </tr>\n",
       "    <tr>\n",
       "      <th>2996</th>\n",
       "      <td>Brazil</td>\n",
       "      <td>2023</td>\n",
       "      <td>SQL Injection</td>\n",
       "      <td>Telecommunications</td>\n",
       "      <td>30.28</td>\n",
       "      <td>892843</td>\n",
       "      <td>Hacker Group</td>\n",
       "      <td>Zero-day</td>\n",
       "      <td>VPN</td>\n",
       "      <td>26</td>\n",
       "    </tr>\n",
       "    <tr>\n",
       "      <th>2997</th>\n",
       "      <td>Brazil</td>\n",
       "      <td>2017</td>\n",
       "      <td>SQL Injection</td>\n",
       "      <td>IT</td>\n",
       "      <td>32.97</td>\n",
       "      <td>734737</td>\n",
       "      <td>Nation-state</td>\n",
       "      <td>Weak Passwords</td>\n",
       "      <td>AI-based Detection</td>\n",
       "      <td>30</td>\n",
       "    </tr>\n",
       "    <tr>\n",
       "      <th>2998</th>\n",
       "      <td>UK</td>\n",
       "      <td>2022</td>\n",
       "      <td>SQL Injection</td>\n",
       "      <td>IT</td>\n",
       "      <td>32.17</td>\n",
       "      <td>379954</td>\n",
       "      <td>Insider</td>\n",
       "      <td>Unpatched Software</td>\n",
       "      <td>Firewall</td>\n",
       "      <td>9</td>\n",
       "    </tr>\n",
       "    <tr>\n",
       "      <th>2999</th>\n",
       "      <td>Germany</td>\n",
       "      <td>2021</td>\n",
       "      <td>SQL Injection</td>\n",
       "      <td>Retail</td>\n",
       "      <td>48.20</td>\n",
       "      <td>480984</td>\n",
       "      <td>Unknown</td>\n",
       "      <td>Zero-day</td>\n",
       "      <td>VPN</td>\n",
       "      <td>64</td>\n",
       "    </tr>\n",
       "  </tbody>\n",
       "</table>\n",
       "<p>3000 rows × 10 columns</p>\n",
       "</div>"
      ],
      "text/plain": [
       "      Country  Year        Attack Type     Target Industry  \\\n",
       "0       China  2019           Phishing           Education   \n",
       "1       China  2019         Ransomware              Retail   \n",
       "2       India  2017  Man-in-the-Middle                  IT   \n",
       "3          UK  2024         Ransomware  Telecommunications   \n",
       "4     Germany  2018  Man-in-the-Middle                  IT   \n",
       "...       ...   ...                ...                 ...   \n",
       "2995       UK  2021         Ransomware          Government   \n",
       "2996   Brazil  2023      SQL Injection  Telecommunications   \n",
       "2997   Brazil  2017      SQL Injection                  IT   \n",
       "2998       UK  2022      SQL Injection                  IT   \n",
       "2999  Germany  2021      SQL Injection              Retail   \n",
       "\n",
       "      Financial Loss (in Million $)  Number of Affected Users Attack Source  \\\n",
       "0                             80.53                    773169  Hacker Group   \n",
       "1                             62.19                    295961  Hacker Group   \n",
       "2                             38.65                    605895  Hacker Group   \n",
       "3                             41.44                    659320  Nation-state   \n",
       "4                             74.41                    810682       Insider   \n",
       "...                             ...                       ...           ...   \n",
       "2995                          51.42                    190694       Unknown   \n",
       "2996                          30.28                    892843  Hacker Group   \n",
       "2997                          32.97                    734737  Nation-state   \n",
       "2998                          32.17                    379954       Insider   \n",
       "2999                          48.20                    480984       Unknown   \n",
       "\n",
       "     Security Vulnerability Type Defense Mechanism Used  \\\n",
       "0             Unpatched Software                    VPN   \n",
       "1             Unpatched Software               Firewall   \n",
       "2                 Weak Passwords                    VPN   \n",
       "3             Social Engineering     AI-based Detection   \n",
       "4             Social Engineering                    VPN   \n",
       "...                          ...                    ...   \n",
       "2995          Social Engineering               Firewall   \n",
       "2996                    Zero-day                    VPN   \n",
       "2997              Weak Passwords     AI-based Detection   \n",
       "2998          Unpatched Software               Firewall   \n",
       "2999                    Zero-day                    VPN   \n",
       "\n",
       "      Incident Resolution Time (in Hours)  \n",
       "0                                      63  \n",
       "1                                      71  \n",
       "2                                      20  \n",
       "3                                       7  \n",
       "4                                      68  \n",
       "...                                   ...  \n",
       "2995                                   52  \n",
       "2996                                   26  \n",
       "2997                                   30  \n",
       "2998                                    9  \n",
       "2999                                   64  \n",
       "\n",
       "[3000 rows x 10 columns]"
      ]
     },
     "execution_count": 3,
     "metadata": {},
     "output_type": "execute_result"
    }
   ],
   "source": [
    "path = 'data/global-cybersecurity-threats/GCT_20152024.csv'\n",
    "df = pd.read_csv(path, delimiter = ',')\n",
    "df"
   ]
  },
  {
   "cell_type": "markdown",
   "id": "37bb9907",
   "metadata": {},
   "source": [
    "Предварительно прсмотрим данные"
   ]
  },
  {
   "cell_type": "code",
   "execution_count": 4,
   "id": "73a0c080",
   "metadata": {},
   "outputs": [
    {
     "data": {
      "text/html": [
       "<div>\n",
       "<style scoped>\n",
       "    .dataframe tbody tr th:only-of-type {\n",
       "        vertical-align: middle;\n",
       "    }\n",
       "\n",
       "    .dataframe tbody tr th {\n",
       "        vertical-align: top;\n",
       "    }\n",
       "\n",
       "    .dataframe thead th {\n",
       "        text-align: right;\n",
       "    }\n",
       "</style>\n",
       "<table border=\"1\" class=\"dataframe\">\n",
       "  <thead>\n",
       "    <tr style=\"text-align: right;\">\n",
       "      <th></th>\n",
       "      <th>Country</th>\n",
       "      <th>Year</th>\n",
       "      <th>Attack Type</th>\n",
       "      <th>Target Industry</th>\n",
       "      <th>Financial Loss (in Million $)</th>\n",
       "      <th>Number of Affected Users</th>\n",
       "      <th>Attack Source</th>\n",
       "      <th>Security Vulnerability Type</th>\n",
       "      <th>Defense Mechanism Used</th>\n",
       "      <th>Incident Resolution Time (in Hours)</th>\n",
       "    </tr>\n",
       "  </thead>\n",
       "  <tbody>\n",
       "    <tr>\n",
       "      <th>0</th>\n",
       "      <td>China</td>\n",
       "      <td>2019</td>\n",
       "      <td>Phishing</td>\n",
       "      <td>Education</td>\n",
       "      <td>80.53</td>\n",
       "      <td>773169</td>\n",
       "      <td>Hacker Group</td>\n",
       "      <td>Unpatched Software</td>\n",
       "      <td>VPN</td>\n",
       "      <td>63</td>\n",
       "    </tr>\n",
       "    <tr>\n",
       "      <th>1</th>\n",
       "      <td>China</td>\n",
       "      <td>2019</td>\n",
       "      <td>Ransomware</td>\n",
       "      <td>Retail</td>\n",
       "      <td>62.19</td>\n",
       "      <td>295961</td>\n",
       "      <td>Hacker Group</td>\n",
       "      <td>Unpatched Software</td>\n",
       "      <td>Firewall</td>\n",
       "      <td>71</td>\n",
       "    </tr>\n",
       "    <tr>\n",
       "      <th>2</th>\n",
       "      <td>India</td>\n",
       "      <td>2017</td>\n",
       "      <td>Man-in-the-Middle</td>\n",
       "      <td>IT</td>\n",
       "      <td>38.65</td>\n",
       "      <td>605895</td>\n",
       "      <td>Hacker Group</td>\n",
       "      <td>Weak Passwords</td>\n",
       "      <td>VPN</td>\n",
       "      <td>20</td>\n",
       "    </tr>\n",
       "    <tr>\n",
       "      <th>3</th>\n",
       "      <td>UK</td>\n",
       "      <td>2024</td>\n",
       "      <td>Ransomware</td>\n",
       "      <td>Telecommunications</td>\n",
       "      <td>41.44</td>\n",
       "      <td>659320</td>\n",
       "      <td>Nation-state</td>\n",
       "      <td>Social Engineering</td>\n",
       "      <td>AI-based Detection</td>\n",
       "      <td>7</td>\n",
       "    </tr>\n",
       "    <tr>\n",
       "      <th>4</th>\n",
       "      <td>Germany</td>\n",
       "      <td>2018</td>\n",
       "      <td>Man-in-the-Middle</td>\n",
       "      <td>IT</td>\n",
       "      <td>74.41</td>\n",
       "      <td>810682</td>\n",
       "      <td>Insider</td>\n",
       "      <td>Social Engineering</td>\n",
       "      <td>VPN</td>\n",
       "      <td>68</td>\n",
       "    </tr>\n",
       "  </tbody>\n",
       "</table>\n",
       "</div>"
      ],
      "text/plain": [
       "   Country  Year        Attack Type     Target Industry  \\\n",
       "0    China  2019           Phishing           Education   \n",
       "1    China  2019         Ransomware              Retail   \n",
       "2    India  2017  Man-in-the-Middle                  IT   \n",
       "3       UK  2024         Ransomware  Telecommunications   \n",
       "4  Germany  2018  Man-in-the-Middle                  IT   \n",
       "\n",
       "   Financial Loss (in Million $)  Number of Affected Users Attack Source  \\\n",
       "0                          80.53                    773169  Hacker Group   \n",
       "1                          62.19                    295961  Hacker Group   \n",
       "2                          38.65                    605895  Hacker Group   \n",
       "3                          41.44                    659320  Nation-state   \n",
       "4                          74.41                    810682       Insider   \n",
       "\n",
       "  Security Vulnerability Type Defense Mechanism Used  \\\n",
       "0          Unpatched Software                    VPN   \n",
       "1          Unpatched Software               Firewall   \n",
       "2              Weak Passwords                    VPN   \n",
       "3          Social Engineering     AI-based Detection   \n",
       "4          Social Engineering                    VPN   \n",
       "\n",
       "   Incident Resolution Time (in Hours)  \n",
       "0                                   63  \n",
       "1                                   71  \n",
       "2                                   20  \n",
       "3                                    7  \n",
       "4                                   68  "
      ]
     },
     "execution_count": 4,
     "metadata": {},
     "output_type": "execute_result"
    }
   ],
   "source": [
    "df.head()"
   ]
  },
  {
   "cell_type": "code",
   "execution_count": 5,
   "id": "88fae1d5",
   "metadata": {},
   "outputs": [
    {
     "data": {
      "text/plain": [
       "(3000, 10)"
      ]
     },
     "execution_count": 5,
     "metadata": {},
     "output_type": "execute_result"
    }
   ],
   "source": [
    "df.shape"
   ]
  },
  {
   "cell_type": "markdown",
   "id": "cd77acfb",
   "metadata": {},
   "source": [
    "## EDA"
   ]
  },
  {
   "cell_type": "markdown",
   "id": "b17b3e14",
   "metadata": {},
   "source": [
    "### 1. Первичный осмотр данных"
   ]
  },
  {
   "cell_type": "code",
   "execution_count": 6,
   "id": "8206bc7b",
   "metadata": {},
   "outputs": [
    {
     "name": "stdout",
     "output_type": "stream",
     "text": [
      "<class 'pandas.core.frame.DataFrame'>\n",
      "RangeIndex: 3000 entries, 0 to 2999\n",
      "Data columns (total 10 columns):\n",
      " #   Column                               Non-Null Count  Dtype  \n",
      "---  ------                               --------------  -----  \n",
      " 0   Country                              3000 non-null   object \n",
      " 1   Year                                 3000 non-null   int64  \n",
      " 2   Attack Type                          3000 non-null   object \n",
      " 3   Target Industry                      3000 non-null   object \n",
      " 4   Financial Loss (in Million $)        3000 non-null   float64\n",
      " 5   Number of Affected Users             3000 non-null   int64  \n",
      " 6   Attack Source                        3000 non-null   object \n",
      " 7   Security Vulnerability Type          3000 non-null   object \n",
      " 8   Defense Mechanism Used               3000 non-null   object \n",
      " 9   Incident Resolution Time (in Hours)  3000 non-null   int64  \n",
      "dtypes: float64(1), int64(3), object(6)\n",
      "memory usage: 234.5+ KB\n"
     ]
    }
   ],
   "source": [
    "df.info()"
   ]
  },
  {
   "cell_type": "markdown",
   "id": "696a329d",
   "metadata": {},
   "source": [
    "Интересно, что числовые характеристики хранятся на мой взгляд в избыточных для своих значений типах переменных, но окончательный вывод на этот счет будет сделан позднее."
   ]
  },
  {
   "cell_type": "code",
   "execution_count": 7,
   "id": "ed6fa451",
   "metadata": {},
   "outputs": [
    {
     "data": {
      "text/plain": [
       "Country                                0\n",
       "Year                                   0\n",
       "Attack Type                            0\n",
       "Target Industry                        0\n",
       "Financial Loss (in Million $)          0\n",
       "Number of Affected Users               0\n",
       "Attack Source                          0\n",
       "Security Vulnerability Type            0\n",
       "Defense Mechanism Used                 0\n",
       "Incident Resolution Time (in Hours)    0\n",
       "dtype: int64"
      ]
     },
     "execution_count": 7,
     "metadata": {},
     "output_type": "execute_result"
    }
   ],
   "source": [
    "df.isnull().sum()"
   ]
  },
  {
   "cell_type": "markdown",
   "id": "752156d3",
   "metadata": {},
   "source": [
    "Пропуски в датасете отсутствуют изначально - датасет создан для учебных целей и хорошо подготовлен авторами"
   ]
  },
  {
   "cell_type": "code",
   "execution_count": 8,
   "id": "fd81846a",
   "metadata": {},
   "outputs": [
    {
     "data": {
      "text/plain": [
       "np.int64(0)"
      ]
     },
     "execution_count": 8,
     "metadata": {},
     "output_type": "execute_result"
    }
   ],
   "source": [
    "df.duplicated().sum()"
   ]
  },
  {
   "cell_type": "markdown",
   "id": "2fe36a27",
   "metadata": {},
   "source": [
    "Дубликаты также отсутствуют в данных"
   ]
  },
  {
   "cell_type": "markdown",
   "id": "3abe7709",
   "metadata": {},
   "source": [
    "### 2. Анализ признаков"
   ]
  },
  {
   "cell_type": "markdown",
   "id": "aef130d6",
   "metadata": {},
   "source": [
    "Сначала нужно разделить признаки на числовые и категориальные"
   ]
  },
  {
   "cell_type": "code",
   "execution_count": 9,
   "id": "3b43d512",
   "metadata": {},
   "outputs": [],
   "source": [
    "cat_columns = [] # создаем пустой список для имен колонок категориальных данных\n",
    "num_columns = [] # создаем пустой список для имен колонок числовых данных\n",
    "\n",
    "for column_name in df.columns: # смотрим на все колонки в датафрейме\n",
    "    if (df[column_name].dtypes == object): # проверяем тип данных для каждой колонки\n",
    "        cat_columns +=[column_name] # если тип объект - то складываем в категориальные данные\n",
    "    else:\n",
    "        num_columns +=[column_name] # иначе - числовые"
   ]
  },
  {
   "cell_type": "code",
   "execution_count": 10,
   "id": "bafbb101",
   "metadata": {},
   "outputs": [
    {
     "name": "stdout",
     "output_type": "stream",
     "text": [
      "Категориальные данные:\t  ['Country', 'Attack Type', 'Target Industry', 'Attack Source', 'Security Vulnerability Type', 'Defense Mechanism Used'] \n",
      " Число столблцов =  6\n",
      "Числовые данные:\t  ['Year', 'Financial Loss (in Million $)', 'Number of Affected Users', 'Incident Resolution Time (in Hours)'] \n",
      " Число столблцов =  4\n"
     ]
    }
   ],
   "source": [
    "print('Категориальные данные:\\t ',cat_columns, '\\n Число столблцов = ',len(cat_columns))\n",
    "\n",
    "print('Числовые данные:\\t ',  num_columns, '\\n Число столблцов = ',len(num_columns))"
   ]
  },
  {
   "cell_type": "markdown",
   "id": "3aac2307",
   "metadata": {},
   "source": [
    "Особое внимание стоит уделить признаку 'Year' - пока непонятно, стоит ли его оставить просто числом или стоит закодировать, нужно смотреть на то, какое влияние он оказывает на целевую переменную"
   ]
  },
  {
   "cell_type": "markdown",
   "id": "ec44bc93",
   "metadata": {},
   "source": [
    "#### 2.1 Рассмотрим числовые признаки"
   ]
  },
  {
   "cell_type": "code",
   "execution_count": 11,
   "id": "e8686784",
   "metadata": {},
   "outputs": [
    {
     "data": {
      "text/html": [
       "<div>\n",
       "<style scoped>\n",
       "    .dataframe tbody tr th:only-of-type {\n",
       "        vertical-align: middle;\n",
       "    }\n",
       "\n",
       "    .dataframe tbody tr th {\n",
       "        vertical-align: top;\n",
       "    }\n",
       "\n",
       "    .dataframe thead th {\n",
       "        text-align: right;\n",
       "    }\n",
       "</style>\n",
       "<table border=\"1\" class=\"dataframe\">\n",
       "  <thead>\n",
       "    <tr style=\"text-align: right;\">\n",
       "      <th></th>\n",
       "      <th>Year</th>\n",
       "      <th>Financial Loss (in Million $)</th>\n",
       "      <th>Number of Affected Users</th>\n",
       "      <th>Incident Resolution Time (in Hours)</th>\n",
       "    </tr>\n",
       "  </thead>\n",
       "  <tbody>\n",
       "    <tr>\n",
       "      <th>count</th>\n",
       "      <td>3000.000000</td>\n",
       "      <td>3000.000000</td>\n",
       "      <td>3000.000000</td>\n",
       "      <td>3000.000000</td>\n",
       "    </tr>\n",
       "    <tr>\n",
       "      <th>mean</th>\n",
       "      <td>2019.570333</td>\n",
       "      <td>50.492970</td>\n",
       "      <td>504684.136333</td>\n",
       "      <td>36.476000</td>\n",
       "    </tr>\n",
       "    <tr>\n",
       "      <th>std</th>\n",
       "      <td>2.857932</td>\n",
       "      <td>28.791415</td>\n",
       "      <td>289944.084972</td>\n",
       "      <td>20.570768</td>\n",
       "    </tr>\n",
       "    <tr>\n",
       "      <th>min</th>\n",
       "      <td>2015.000000</td>\n",
       "      <td>0.500000</td>\n",
       "      <td>424.000000</td>\n",
       "      <td>1.000000</td>\n",
       "    </tr>\n",
       "    <tr>\n",
       "      <th>25%</th>\n",
       "      <td>2017.000000</td>\n",
       "      <td>25.757500</td>\n",
       "      <td>255805.250000</td>\n",
       "      <td>19.000000</td>\n",
       "    </tr>\n",
       "    <tr>\n",
       "      <th>50%</th>\n",
       "      <td>2020.000000</td>\n",
       "      <td>50.795000</td>\n",
       "      <td>504513.000000</td>\n",
       "      <td>37.000000</td>\n",
       "    </tr>\n",
       "    <tr>\n",
       "      <th>75%</th>\n",
       "      <td>2022.000000</td>\n",
       "      <td>75.630000</td>\n",
       "      <td>758088.500000</td>\n",
       "      <td>55.000000</td>\n",
       "    </tr>\n",
       "    <tr>\n",
       "      <th>max</th>\n",
       "      <td>2024.000000</td>\n",
       "      <td>99.990000</td>\n",
       "      <td>999635.000000</td>\n",
       "      <td>72.000000</td>\n",
       "    </tr>\n",
       "  </tbody>\n",
       "</table>\n",
       "</div>"
      ],
      "text/plain": [
       "              Year  Financial Loss (in Million $)  Number of Affected Users  \\\n",
       "count  3000.000000                    3000.000000               3000.000000   \n",
       "mean   2019.570333                      50.492970             504684.136333   \n",
       "std       2.857932                      28.791415             289944.084972   \n",
       "min    2015.000000                       0.500000                424.000000   \n",
       "25%    2017.000000                      25.757500             255805.250000   \n",
       "50%    2020.000000                      50.795000             504513.000000   \n",
       "75%    2022.000000                      75.630000             758088.500000   \n",
       "max    2024.000000                      99.990000             999635.000000   \n",
       "\n",
       "       Incident Resolution Time (in Hours)  \n",
       "count                          3000.000000  \n",
       "mean                             36.476000  \n",
       "std                              20.570768  \n",
       "min                               1.000000  \n",
       "25%                              19.000000  \n",
       "50%                              37.000000  \n",
       "75%                              55.000000  \n",
       "max                              72.000000  "
      ]
     },
     "execution_count": 11,
     "metadata": {},
     "output_type": "execute_result"
    }
   ],
   "source": [
    "df.describe()"
   ]
  },
  {
   "cell_type": "markdown",
   "id": "ef6d39f6",
   "metadata": {},
   "source": [
    "Построим гистограммы значений по каждому числовому признаку"
   ]
  },
  {
   "cell_type": "code",
   "execution_count": 12,
   "id": "3bda50b8",
   "metadata": {},
   "outputs": [
    {
     "data": {
      "image/png": "[encoded data removed]",
      "text/plain": [
       "<Figure size 1600x800 with 4 Axes>"
      ]
     },
     "metadata": {},
     "output_type": "display_data"
    }
   ],
   "source": [
    "width = 2\n",
    "height = int(np.ceil(len(num_columns)/width))\n",
    "fig, ax = plt.subplots(nrows=height, ncols=width, figsize=(16,8)) # создаем \"полотно\", на котором будем \"рисовать\" графики\n",
    "#     ↑  более точная структура (почти синоним subplot). Говорим что у нас будет height строк и width столбцов\n",
    "\n",
    "for idx, column_name in enumerate(num_columns): # перебираем все числовые данные\n",
    "    plt.subplot(height,width, idx+1) #берем конкретную ячейку из заранее подготовленную заготовку\n",
    "    # рисуем с помощью библиотеки seaborn\n",
    "    sns.histplot(data=df, # какой датафрейм используем\n",
    "            x=column_name, # какую переменную отрисовываем\n",
    "            bins = 10);  # на сколько ячеек разбиваем"
   ]
  },
  {
   "cell_type": "markdown",
   "id": "d4e3ab75",
   "metadata": {},
   "source": [
    "Для лучшей аналитики аномали, построим гистограммы по логарифмической шкале"
   ]
  },
  {
   "cell_type": "code",
   "execution_count": 13,
   "id": "e5d67e6d",
   "metadata": {},
   "outputs": [
    {
     "data": {
      "image/png": "[encoded data removed]",
      "text/plain": [
       "<Figure size 1500x600 with 1 Axes>"
      ]
     },
     "metadata": {},
     "output_type": "display_data"
    }
   ],
   "source": [
    "plt.figure(figsize=(15,6)) # создаем \"полотно\", уточняем размер\n",
    "sns.histplot(data=df, # какой датафрейм используем\n",
    "             x='Financial Loss (in Million $)', # какую переменную отрисовываем\n",
    "             bins = 20, # на сколько ячеек разбиваем\n",
    "             log_scale = True); # захотели использовать логарифмический масштаб (для очень больших диапазонов)"
   ]
  },
  {
   "cell_type": "code",
   "execution_count": 14,
   "id": "68e16d09",
   "metadata": {},
   "outputs": [
    {
     "data": {
      "image/png": "[encoded data removed]",
      "text/plain": [
       "<Figure size 1500x600 with 1 Axes>"
      ]
     },
     "metadata": {},
     "output_type": "display_data"
    }
   ],
   "source": [
    "plt.figure(figsize=(15,6)) # создаем \"полотно\", уточняем размер\n",
    "sns.histplot(data=df, # какой датафрейм используем\n",
    "             x='Number of Affected Users', # какую переменную отрисовываем\n",
    "             bins = 20, # на сколько ячеек разбиваем\n",
    "             log_scale = True); # захотели использовать логарифмический масштаб (для очень больших диапазонов)"
   ]
  },
  {
   "cell_type": "code",
   "execution_count": 15,
   "id": "3c20e302",
   "metadata": {},
   "outputs": [
    {
     "data": {
      "image/png": "[encoded data removed]",
      "text/plain": [
       "<Figure size 1500x600 with 1 Axes>"
      ]
     },
     "metadata": {},
     "output_type": "display_data"
    }
   ],
   "source": [
    "plt.figure(figsize=(15,6)) # создаем \"полотно\", уточняем размер\n",
    "sns.histplot(data=df, # какой датафрейм используем\n",
    "             x='Incident Resolution Time (in Hours)', # какую переменную отрисовываем\n",
    "             bins = 20, # на сколько ячеек разбиваем\n",
    "             log_scale = True); # захотели использовать логарифмический масштаб (для очень больших диапазонов)"
   ]
  },
  {
   "cell_type": "code",
   "execution_count": null,
   "id": "0c88dabc",
   "metadata": {},
   "outputs": [],
   "source": []
  },
  {
   "cell_type": "markdown",
   "id": "d7fa1ed9",
   "metadata": {},
   "source": [
    "#### 2.1.1 Анализ числовых характеристик на основе построенных графиков\n"
   ]
  },
  {
   "cell_type": "markdown",
   "id": "38448780",
   "metadata": {},
   "source": [
    "На основе построенных гистограмм проведём детальный статистический анализ числовых характеристик датасета.\n"
   ]
  },
  {
   "cell_type": "code",
   "execution_count": 16,
   "id": "e97df89b",
   "metadata": {},
   "outputs": [
    {
     "name": "stdout",
     "output_type": "stream",
     "text": [
      "=== АНАЛИЗ ЧИСЛОВЫХ ПРИЗНАКОВ ===\n",
      "\n",
      "\n",
      "1. ОСНОВНЫЕ СТАТИСТИЧЕСКИЕ ХАРАКТЕРИСТИКИ:\n",
      "              Year  Financial Loss (in Million $)  Number of Affected Users  \\\n",
      "count  3000.000000                    3000.000000               3000.000000   \n",
      "mean   2019.570333                      50.492970             504684.136333   \n",
      "std       2.857932                      28.791415             289944.084972   \n",
      "min    2015.000000                       0.500000                424.000000   \n",
      "25%    2017.000000                      25.757500             255805.250000   \n",
      "50%    2020.000000                      50.795000             504513.000000   \n",
      "75%    2022.000000                      75.630000             758088.500000   \n",
      "max    2024.000000                      99.990000             999635.000000   \n",
      "\n",
      "       Incident Resolution Time (in Hours)  \n",
      "count                          3000.000000  \n",
      "mean                             36.476000  \n",
      "std                              20.570768  \n",
      "min                               1.000000  \n",
      "25%                              19.000000  \n",
      "50%                              37.000000  \n",
      "75%                              55.000000  \n",
      "max                              72.000000  \n"
     ]
    }
   ],
   "source": [
    "# Вычислим основные статистические характеристики\n",
    "print(\"=== АНАЛИЗ ЧИСЛОВЫХ ПРИЗНАКОВ ===\\n\")\n",
    "print(\"\\n1. ОСНОВНЫЕ СТАТИСТИЧЕСКИЕ ХАРАКТЕРИСТИКИ:\")\n",
    "print(df[num_columns].describe())\n"
   ]
  },
  {
   "cell_type": "code",
   "execution_count": 17,
   "id": "71673ea3",
   "metadata": {},
   "outputs": [
    {
     "name": "stdout",
     "output_type": "stream",
     "text": [
      "\n",
      "2. АСИММЕТРИЯ РАСПРЕДЕЛЕНИЙ (Skewness):\n",
      "  Year:\n",
      "    Коэффициент асимметрии: -0.0275\n",
      "    Характер распределения: примерно симметричное, отрицательный эксцесс (левостороннее)\n",
      "    Интерпретация: Распределение годов почти симметрично (skew≈-0.028)\n",
      "\n",
      "  Financial Loss (in Million $):\n",
      "    Коэффициент асимметрии: -0.0169\n",
      "    Характер распределения: примерно симметричное, отрицательный эксцесс (левостороннее)\n",
      "    Интерпретация: Небольшое сдвиг распределения, можно считать близким к нормальному\n",
      "\n",
      "  Number of Affected Users:\n",
      "    Коэффициент асимметрии: -0.0254\n",
      "    Характер распределения: примерно симметричное, отрицательный эксцесс (левостороннее)\n",
      "    Интерпретация: Распределение близко к симметричному\n",
      "\n",
      "  Incident Resolution Time (in Hours):\n",
      "    Коэффициент асимметрии: 0.0111\n",
      "    Характер распределения: примерно симметричное, положительный эксцесс (правостороннее)\n",
      "    Интерпретация: Чуть больше небольших значений, но в целом равномерное распределение\n",
      "\n"
     ]
    }
   ],
   "source": [
    "# Анализ асимметрии (skewness)\n",
    "print(\"\\n2. АСИММЕТРИЯ РАСПРЕДЕЛЕНИЙ (Skewness):\")\n",
    "for col in num_columns:\n",
    "    skew_val = df[col].skew()\n",
    "    if abs(skew_val) < 0.5:\n",
    "        symmetry = \"примерно симметричное\"\n",
    "    elif abs(skew_val) < 1:\n",
    "        symmetry = \"умеренно асимметричное\"\n",
    "    else:\n",
    "        symmetry = \"сильно асимметричное\"\n",
    "    \n",
    "    direction = \"отрицательный эксцесс (левостороннее)\" if skew_val < 0 else \"положительный эксцесс (правостороннее)\"\n",
    "    \n",
    "    print(f\"  {col}:\")\n",
    "    print(f\"    Коэффициент асимметрии: {skew_val:.4f}\")\n",
    "    print(f\"    Характер распределения: {symmetry}, {direction}\")\n",
    "    \n",
    "    # Интерпретация\n",
    "    if col == 'Year':\n",
    "        print(f\"    Интерпретация: Распределение годов почти симметрично (skew≈{skew_val:.3f})\")\n",
    "    elif col == 'Financial Loss (in Million $)':\n",
    "        print(f\"    Интерпретация: Небольшое сдвиг распределения, можно считать близким к нормальному\")\n",
    "    elif col == 'Number of Affected Users':\n",
    "        print(f\"    Интерпретация: Распределение близко к симметричному\")\n",
    "    elif col == 'Incident Resolution Time (in Hours)':\n",
    "        print(f\"    Интерпретация: Чуть больше небольших значений, но в целом равномерное распределение\")\n",
    "    print()\n"
   ]
  },
  {
   "cell_type": "code",
   "execution_count": 18,
   "id": "c0a5ab31",
   "metadata": {},
   "outputs": [
    {
     "name": "stdout",
     "output_type": "stream",
     "text": [
      "3. ЭКСЦЕСС (Kurtosis) - мера 'пиковости' распределения:\n",
      "  Year:\n",
      "    Значение эксцесса: -1.2298\n",
      "    Форма распределения: платокураттическое (плоское, менее пиковое)\n",
      "    Интерпретация: -1.230 - распределение платокураттическое (плоское, менее пиковое)\n",
      "\n",
      "  Financial Loss (in Million $):\n",
      "    Значение эксцесса: -1.2102\n",
      "    Форма распределения: платокураттическое (плоское, менее пиковое)\n",
      "    Интерпретация: -1.210 - распределение платокураттическое (плоское, менее пиковое)\n",
      "\n",
      "  Number of Affected Users:\n",
      "    Значение эксцесса: -1.2037\n",
      "    Форма распределения: платокураттическое (плоское, менее пиковое)\n",
      "    Интерпретация: -1.204 - распределение платокураттическое (плоское, менее пиковое)\n",
      "\n",
      "  Incident Resolution Time (in Hours):\n",
      "    Значение эксцесса: -1.1926\n",
      "    Форма распределения: платокураттическое (плоское, менее пиковое)\n",
      "    Интерпретация: -1.193 - распределение платокураттическое (плоское, менее пиковое)\n",
      "\n"
     ]
    }
   ],
   "source": [
    "# Анализ формы распределения (kurtosis)\n",
    "print(\"3. ЭКСЦЕСС (Kurtosis) - мера 'пиковости' распределения:\")\n",
    "for col in num_columns:\n",
    "    kurtosis_val = df[col].kurtosis()\n",
    "    if kurtosis_val < 0:\n",
    "        form = \"платокураттическое (плоское, менее пиковое)\"\n",
    "    elif kurtosis_val < 1:\n",
    "        form = \"мезокураттическое (нормальная острота)\"\n",
    "    else:\n",
    "        form = \"лептокуртическое (остроконечное)\"\n",
    "    \n",
    "    print(f\"  {col}:\")\n",
    "    print(f\"    Значение эксцесса: {kurtosis_val:.4f}\")\n",
    "    print(f\"    Форма распределения: {form}\")\n",
    "    print(f\"    Интерпретация: {kurtosis_val:.3f} - распределение {form}\")\n",
    "    print()\n"
   ]
  },
  {
   "cell_type": "code",
   "execution_count": 19,
   "id": "cda2ae4b",
   "metadata": {},
   "outputs": [
    {
     "name": "stdout",
     "output_type": "stream",
     "text": [
      "4. АНАЛИЗ ВАРИАБЕЛЬНОСТИ И РАСПРЕДЕЛЕНИЯ ЧЕРЕЗ КВАРТИЛИ:\n",
      "\n",
      "  Year:\n",
      "    Q1 (25% перцентиль): 2017.00\n",
      "    Q2 (Медиана): 2020.00\n",
      "    Q3 (75% перцентиль): 2022.00\n",
      "    IQR (межквартильный размах): 5.00\n",
      "    Коэффициент вариации: 0.0014\n",
      "    Выводы: Годы распределены равномерно с 2017 по 2022 (IQR=5), низкая вариабельность (CV=0.0014)\n",
      "            Учитывая специфику данных (2015-2024), распределение выглядит естественным\n",
      "\n",
      "\n",
      "  Financial Loss (in Million $):\n",
      "    Q1 (25% перцентиль): 25.76\n",
      "    Q2 (Медиана): 50.80\n",
      "    Q3 (75% перцентиль): 75.63\n",
      "    IQR (межквартильный размах): 49.87\n",
      "    Коэффициент вариации: 0.5702\n",
      "    Выводы: Широкий разброс ущерба (IQR=$49.87M), средняя вариабельность (CV=0.57)\n",
      "            Центр распределения около $51M, но есть значительное разбросы\n",
      "\n",
      "\n",
      "  Number of Affected Users:\n",
      "    Q1 (25% перцентиль): 255805.25\n",
      "    Q2 (Медиана): 504513.00\n",
      "    Q3 (75% перцентиль): 758088.50\n",
      "    IQR (межквартильный размах): 502283.25\n",
      "    Коэффициент вариации: 0.5745\n",
      "    Выводы: Огромная вариабельность числа пострадавших (IQR=502283, CV=0.57)\n",
      "            Медиана ~504513 пользователей, но значения могут варьироваться в диапазоне 424-999635\n",
      "\n",
      "\n",
      "  Incident Resolution Time (in Hours):\n",
      "    Q1 (25% перцентиль): 19.00\n",
      "    Q2 (Медиана): 37.00\n",
      "    Q3 (75% перцентиль): 55.00\n",
      "    IQR (межквартильный размах): 36.00\n",
      "    Коэффициент вариации: 0.5640\n",
      "    Выводы: Умеренный разброс времени (IQR=36 часов), высокая вариабельность (CV=0.56)\n",
      "            Медиана 37 часов, что может указывать на сложность быстрого реагирования\n",
      "\n"
     ]
    }
   ],
   "source": [
    "# Анализ межквартильного размаха и вариабельности\n",
    "print(\"4. АНАЛИЗ ВАРИАБЕЛЬНОСТИ И РАСПРЕДЕЛЕНИЯ ЧЕРЕЗ КВАРТИЛИ:\")\n",
    "for col in num_columns:\n",
    "    q1 = df[col].quantile(0.25)\n",
    "    q2 = df[col].quantile(0.50)  # медиана\n",
    "    q3 = df[col].quantile(0.75)\n",
    "    iqr = q3 - q1\n",
    "    \n",
    "    print(f\"\\n  {col}:\")\n",
    "    print(f\"    Q1 (25% перцентиль): {q1:.2f}\")\n",
    "    print(f\"    Q2 (Медиана): {q2:.2f}\")\n",
    "    print(f\"    Q3 (75% перцентиль): {q3:.2f}\")\n",
    "    print(f\"    IQR (межквартильный размах): {iqr:.2f}\")\n",
    "    \n",
    "    # Вычисляем коэффициент вариации\n",
    "    cv = df[col].std() / df[col].mean()\n",
    "    print(f\"    Коэффициент вариации: {cv:.4f}\")\n",
    "    \n",
    "    if col == 'Year':\n",
    "        print(f\"    Выводы: Годы распределены равномерно с 2017 по 2022 (IQR=5), низкая вариабельность (CV=0.0014)\")\n",
    "        print(f\"            Учитывая специфику данных (2015-2024), распределение выглядит естественным\")\n",
    "    elif col == 'Financial Loss (in Million $)':\n",
    "        print(f\"    Выводы: Широкий разброс ущерба (IQR=${iqr:.2f}M), средняя вариабельность (CV=0.57)\")\n",
    "        print(f\"            Центр распределения около ${q2:.0f}M, но есть значительное разбросы\")\n",
    "    elif col == 'Number of Affected Users':\n",
    "        print(f\"    Выводы: Огромная вариабельность числа пострадавших (IQR={iqr:.0f}, CV=0.57)\")\n",
    "        print(f\"            Медиана ~{q2:.0f} пользователей, но значения могут варьироваться в диапазоне {df[col].min():.0f}-{df[col].max():.0f}\")\n",
    "    elif col == 'Incident Resolution Time (in Hours)':\n",
    "        print(f\"    Выводы: Умеренный разброс времени (IQR={iqr:.0f} часов), высокая вариабельность (CV=0.56)\")\n",
    "        print(f\"            Медиана {q2:.0f} часов, что может указывать на сложность быстрого реагирования\")\n",
    "    print()\n"
   ]
  },
  {
   "cell_type": "code",
   "execution_count": 20,
   "id": "5f34b2fb",
   "metadata": {},
   "outputs": [
    {
     "name": "stdout",
     "output_type": "stream",
     "text": [
      "5. АНАЛИЗ ВЫБРОСОВ (метод IQR * 1.5):\n",
      "\n",
      "  Year:\n",
      "    Нижняя граница: 2009.50\n",
      "    Верхняя граница: 2029.50\n",
      "    Количество выбросов: 0 (0.0%)\n",
      "    Вывод: Выбросов не обнаружено! Это подтверждает хорошо подготовленный датасет.\n",
      "            Все значения находятся в естественных границах признака.\n",
      "\n",
      "  Financial Loss (in Million $):\n",
      "    Нижняя граница: -49.05\n",
      "    Верхняя граница: 150.44\n",
      "    Количество выбросов: 0 (0.0%)\n",
      "    Вывод: Выбросов не обнаружено! Это подтверждает хорошо подготовленный датасет.\n",
      "            Все значения находятся в естественных границах признака.\n",
      "\n",
      "  Number of Affected Users:\n",
      "    Нижняя граница: -497619.62\n",
      "    Верхняя граница: 1511513.38\n",
      "    Количество выбросов: 0 (0.0%)\n",
      "    Вывод: Выбросов не обнаружено! Это подтверждает хорошо подготовленный датасет.\n",
      "            Все значения находятся в естественных границах признака.\n",
      "\n",
      "  Incident Resolution Time (in Hours):\n",
      "    Нижняя граница: -35.00\n",
      "    Верхняя граница: 109.00\n",
      "    Количество выбросов: 0 (0.0%)\n",
      "    Вывод: Выбросов не обнаружено! Это подтверждает хорошо подготовленный датасет.\n",
      "            Все значения находятся в естественных границах признака.\n",
      "\n"
     ]
    }
   ],
   "source": [
    "# Анализ выбросов\n",
    "print(\"5. АНАЛИЗ ВЫБРОСОВ (метод IQR * 1.5):\")\n",
    "print()\n",
    "\n",
    "for col in num_columns:\n",
    "    q1 = df[col].quantile(0.25)\n",
    "    q3 = df[col].quantile(0.75)\n",
    "    iqr = q3 - q1\n",
    "    \n",
    "    lower_bound = q1 - 1.5 * iqr\n",
    "    upper_bound = q3 + 1.5 * iqr\n",
    "    \n",
    "    outliers = df[(df[col] < lower_bound) | (df[col] > upper_bound)][col]\n",
    "    outlier_count = len(outliers)\n",
    "    outlier_percent = (outlier_count / len(df)) * 100\n",
    "    \n",
    "    print(f\"  {col}:\")\n",
    "    print(f\"    Нижняя граница: {lower_bound:.2f}\")\n",
    "    print(f\"    Верхняя граница: {upper_bound:.2f}\")\n",
    "    print(f\"    Количество выбросов: {outlier_count} ({outlier_percent:.1f}%)\")\n",
    "    \n",
    "    if outlier_count == 0:\n",
    "        print(f\"    Вывод: Выбросов не обнаружено! Это подтверждает хорошо подготовленный датасет.\")\n",
    "        print(f\"            Все значения находятся в естественных границах признака.\")\n",
    "    elif outlier_count < len(df) * 0.05:\n",
    "        print(f\"    Вывод: Минимальное количество выбросов (<5%), что нормально для реальных данных.\")\n",
    "    else:\n",
    "        print(f\"    Вывод: Значительное количество выбросов, требующее дополнительного анализа.\")\n",
    "    print()\n"
   ]
  },
  {
   "cell_type": "markdown",
   "id": "394c66c9",
   "metadata": {},
   "source": [
    "#### Итоговые выводы по числовым признакам\n"
   ]
  },
  {
   "cell_type": "markdown",
   "id": "04fd05ee",
   "metadata": {},
   "source": [
    "На основе построенных гистограмм и статистического анализа можно сделать следующие выводы:\n"
   ]
  },
  {
   "cell_type": "markdown",
   "id": "18703fe4",
   "metadata": {},
   "source": [
    "**1. Year (Год):**\n",
    "- **Распределение**: Практически равномерное распределение с 2015 по 2024 год\n",
    "- **Асимметрия**: Почти симметричное (skew = -0.0275), близко к нормальному\n",
    "- **Эксцесс**: Платокураттическое (kurtosis = -1.23), что указывает на плоское распределение\n",
    "- **Вариабельность**: Очень низкая (CV = 0.0014), так как диапазон ограничен\n",
    "- **Выводы**: Данные равномерно распределены по годам, нет перекоса к определенным периодам\n",
    "\n",
    "**2. Financial Loss (in Million $) - Целевая переменная:**\n",
    "- **Распределение**: По гистограмме видно, что при логарифмической шкале распределение выглядит нормальным\n",
    "- **Асимметрия**: Приблизительно симметричное (skew = -0.0169), близко к нормальному распределению\n",
    "- **Эксцесс**: Платокураттическое (kurtosis = -1.21), плавное распределение без резких пиков\n",
    "- **Вариабельность**: Высокая (CV = 0.57), значительный разброс ущерба от $1M до $100M\n",
    "- **Квартили**: Медиана ~$50.8M, IQR = $49.9M - большой разброс\n",
    "- **Выводы**: Идеальная целевая переменная для регрессии - близка к нормальному распределению\n",
    "\n",
    "**3. Number of Affected Users:**\n",
    "- **Распределение**: При логарифмической шкале выглядит нормальным, широкий разброс\n",
    "- **Асимметрия**: Почти симметричное (skew = -0.0254)\n",
    "- **Эксцесс**: Платокураттическое (kurtosis = -1.20)\n",
    "- **Вариабельность**: Высокая (CV = 0.57), огромный разброс от тысяч до миллионов пользователей\n",
    "- **Выводы**: Значительная вариабельность числа пострадавших, требует внимания при моделировании\n",
    "\n",
    "**4. Incident Resolution Time (in Hours):**\n",
    "- **Распределение**: При логарифмической шкале показывает почти равномерное распределение\n",
    "- **Асимметрия**: Практически симметричное (skew = 0.0111)\n",
    "- **Эксцесс**: Платокураттическое (kurtosis = -1.19)\n",
    "- **Вариабельность**: Высокая (CV = 0.56), от 1 часа до 72 часов\n",
    "- **Выводы**: Широкий диапазон времени разрешения инцидентов, что важно для планирования ресурсов\n",
    "\n",
    "**Общий вывод**: Все числовые признаки имеют низкую асимметрию и платокураттическое распределение, что указывает на хорошо подготовленный учебный датасет. Целевая переменная (Financial Loss) идеально подходит для задач регрессии, так как имеет почти нормальное распределение при логарифмической шкале.\n"
   ]
  },
  {
   "cell_type": "markdown",
   "id": "96cbf44a",
   "metadata": {},
   "source": [
    "#### Визуализация: что означает \"нормальное распределение при логарифмической шкале\"\n"
   ]
  },
  {
   "cell_type": "markdown",
   "id": "c4fad196",
   "metadata": {},
   "source": [
    "Проведем детальный анализ распределения целевой переменной Financial Loss и объясним, что значит \"нормальное распределение при логарифмической шкале\".\n"
   ]
  },
  {
   "cell_type": "code",
   "execution_count": null,
   "id": "09f98290",
   "metadata": {},
   "outputs": [],
   "source": [
    "# Сравним распределение Financial Loss в обычной и логарифмической шкале\n",
    "fig, axes = plt.subplots(1, 2, figsize=(16, 6))\n",
    "\n",
    "# Левая гистограмма - обычная шкала\n",
    "axes[0].hist(df['Financial Loss (in Million $)'], bins=30, edgecolor='black', alpha=0.7)\n",
    "axes[0].axvline(df['Financial Loss (in Million $)'].mean(), color='red', linestyle='--', \n",
    "                linewidth=2, label=f'Среднее = ${df[\"Financial Loss (in Million $)\"].mean():.2f}M')\n",
    "axes[0].axvline(df['Financial Loss (in Million $)'].median(), color='green', linestyle='--', \n",
    "                linewidth=2, label=f'Медиана = ${df[\"Financial Loss (in Million $)\"].median():.2f}M')\n",
    "axes[0].set_xlabel('Financial Loss (in Million $)')\n",
    "axes[0].set_ylabel('Частота')\n",
    "axes[0].set_title('Распределение в обычной шкале')\n",
    "axes[0].legend()\n",
    "axes[0].grid(True, alpha=0.3)\n",
    "\n",
    "# Правая гистограмма - логарифмическая шкала\n",
    "axes[1].hist(np.log10(df['Financial Loss (in Million $)']), bins=30, edgecolor='black', alpha=0.7)\n",
    "axes[1].axvline(np.log10(df['Financial Loss (in Million $)']).mean(), color='red', linestyle='--', \n",
    "                linewidth=2, label=f'Среднее (log10) = {np.log10(df[\"Financial Loss (in Million $)\"]).mean():.3f}')\n",
    "axes[1].axvline(np.log10(df['Financial Loss (in Million $)']).median(), color='green', linestyle='--', \n",
    "                linewidth=2, label=f'Медиана (log10) = {np.log10(df[\"Financial Loss (in Million $)\"]).median():.3f}')\n",
    "axes[1].set_xlabel('log10(Financial Loss)')\n",
    "axes[1].set_ylabel('Частота')\n",
    "axes[1].set_title('Распределение в логарифмической шкале (log10)')\n",
    "axes[1].legend()\n",
    "axes[1].grid(True, alpha=0.3)\n",
    "\n",
    "plt.tight_layout()\n",
    "plt.show()\n",
    "\n",
    "print(f\"Среднее значение: ${df['Financial Loss (in Million $)'].mean():.2f}M\")\n",
    "print(f\"Медиана: ${df['Financial Loss (in Million $)'].median():.2f}M\")\n",
    "print(f\"\\nЧто означает логарифмическая шкала:\")\n",
    "print(f\"- log10(${df['Financial Loss (in Million $)'].min():.2f}M) = {np.log10(df['Financial Loss (in Million $)'].min()):.3f}\")\n",
    "print(f\"- log10(${df['Financial Loss (in Million $)'].median():.2f}M) = {np.log10(df['Financial Loss (in Million $)'].median()):.3f}\")\n",
    "print(f\"- log10(${df['Financial Loss (in Million $)'].max():.2f}M) = {np.log10(df['Financial Loss (in Million $)'].max()):.3f}\")\n"
   ]
  },
  {
   "cell_type": "code",
   "execution_count": null,
   "id": "c9a26891",
   "metadata": {},
   "outputs": [],
   "source": [
    "# Сравнение с идеальным нормальным распределением\n",
    "from scipy import stats\n",
    "\n",
    "fig, axes = plt.subplots(1, 3, figsize=(18, 5))\n",
    "\n",
    "# 1. Гистограмма с наложенным нормальным распределением (логарифмическая шкала)\n",
    "log_values = np.log10(df['Financial Loss (in Million $)'])\n",
    "mu = log_values.mean()\n",
    "sigma = log_values.std()\n",
    "\n",
    "axes[0].hist(log_values, bins=30, density=True, alpha=0.7, label='Эмпирическое распределение')\n",
    "x = np.linspace(log_values.min(), log_values.max(), 100)\n",
    "axes[0].plot(x, stats.norm.pdf(x, mu, sigma), 'r-', linewidth=2, label='Теоретическое нормальное распределение')\n",
    "axes[0].set_xlabel('log10(Financial Loss)')\n",
    "axes[0].set_ylabel('Плотность вероятности')\n",
    "axes[0].set_title('Сравнение с нормальным распределением')\n",
    "axes[0].legend()\n",
    "axes[0].grid(True, alpha=0.3)\n",
    "\n",
    "# 2. QQ-plot для проверки нормальности\n",
    "stats.probplot(log_values, dist=\"norm\", plot=axes[1])\n",
    "axes[1].set_title('QQ-plot: проверка нормальности распределения')\n",
    "axes[1].grid(True, alpha=0.3)\n",
    "\n",
    "# 3. Box plot для наглядности\n",
    "axes[2].boxplot(log_values, vert=True)\n",
    "axes[2].set_ylabel('log10(Financial Loss)')\n",
    "axes[2].set_title('Box plot распределения')\n",
    "axes[2].grid(True, alpha=0.3)\n",
    "\n",
    "plt.tight_layout()\n",
    "plt.show()\n",
    "\n",
    "# Тест на нормальность (Shapiro-Wilk test)\n",
    "from scipy.stats import shapiro\n",
    "stat, p_value = shapiro(log_values)\n",
    "print(f\"Тест Шапиро-Уилка на нормальность:\")\n",
    "print(f\"  Статистика: {stat:.6f}\")\n",
    "print(f\"  p-value: {p_value:.6f}\")\n",
    "if p_value > 0.05:\n",
    "    print(f\"  Вывод: Не отвергаем гипотезу о нормальности (p > 0.05)\")\n",
    "else:\n",
    "    print(f\"  Вывод: Отвергаем гипотезу о нормальности (p < 0.05)\")\n"
   ]
  },
  {
   "cell_type": "markdown",
   "id": "1df84abf",
   "metadata": {},
   "source": [
    "**Объяснение результатов:**\n"
   ]
  },
  {
   "cell_type": "markdown",
   "id": "da7c1ab2",
   "metadata": {},
   "source": [
    "### Что означает \"нормальное распределение при логарифмической шкале\"?\n",
    "\n",
    "**Основная идея:**\n",
    "\n",
    "1. **Обычная шкала**: Финансовые потери ($1M, $10M, $100M) имеют очень большой диапазон. Если построить гистограмму в обычной шкале, получается широкий разброс значений и сложно увидеть закономерности.\n",
    "\n",
    "2. **Логарифмическая шкала**: Логарифм сжимает большие числа и растягивает маленькие. Например:\n",
    "   - $1M → log₁₀(1) = 0\n",
    "   - $10M → log₁₀(10) = 1  \n",
    "   - $100M → log₁₀(100) = 2\n",
    "\n",
    "3. **Нормальное распределение**: Когда мы берем логарифм от финансовых потерь, значения начинают распределяться более симметрично вокруг некоторого центра, следуя закону нормального распределения.\n",
    "\n",
    "**Почему это важно для машинного обучения:**\n",
    "\n",
    "- ✅ **Алгоритмы регрессии** работают лучше с данными, которые распределены нормально\n",
    "- ✅ **Линейные модели** (например, LinearRegression) дают более точные предсказания\n",
    "- ✅ Снижается влияние экстремальных значений (выбросов)\n",
    "- ✅ Трансформация данных делает задачу более стабильной\n",
    "\n",
    "**В нашем случае:**\n",
    "- Financial Loss в логарифмической шкале демонстрирует **логарифмически-нормальное** распределение (lognormal)\n",
    "- Это очень типично для финансовых данных\n",
    "- Для моделей ML можно использовать трансформацию `log(y)` или предобработку через `PowerTransformer`\n"
   ]
  },
  {
   "cell_type": "markdown",
   "id": "2bff2402",
   "metadata": {},
   "source": []
  }
 ],
 "metadata": {
  "kernelspec": {
   "display_name": "venv",
   "language": "python",
   "name": "python3"
  },
  "language_info": {
   "codemirror_mode": {
    "name": "ipython",
    "version": 3
   },
   "file_extension": ".py",
   "mimetype": "text/x-python",
   "name": "python",
   "nbconvert_exporter": "python",
   "pygments_lexer": "ipython3",
   "version": "3.13.5"
  }
 },
 "nbformat": 4,
 "nbformat_minor": 5
}
