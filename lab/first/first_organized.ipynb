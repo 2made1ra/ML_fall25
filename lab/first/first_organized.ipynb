{
  "cells": [
    {
      "cell_type": "markdown",
      "metadata": {},
      "source": [
        "# Лабораторная работа 1. Визуализация и предварительная обработка данных\n",
        "\n",
        "### Жунёв Андрей Александрович РИМ-150950"
      ]
    },
    {
      "cell_type": "markdown",
      "metadata": {},
      "source": [
        "# I. ВВЕДЕНИЕ\n",
        "\n",
        "## 1.1 Описание задачи\n",
        "\n",
        "**Тип задачи:** Регрессия  \n",
        "**Целевая переменная:** Financial Loss (in Million $) - финансовый ущерб от кибератаки  \n",
        "**Бизнес-контекст:** Оценка ущерба позволяет бизнесу лучше спланировать защитные меры, определить бюджеты безопасности."
      ]
    },
    {
      "cell_type": "markdown",
      "metadata": {},
      "source": [
        "## 1.2 Описание датасета\n",
        "\n",
        "**Источник данных:** Kaggle  \n",
        "**Датасет:** Global Cybersecurity Threats (2015-2024)  \n",
        "**Размерность:** ~3000 записей, 10 признаков  \n",
        "**Ссылка:** https://www.kaggle.com/datasets/atharvasoundankar/global-cybersecurity-threats-2015-2024"
      ]
    },
    {
      "cell_type": "markdown",
      "metadata": {},
      "source": [
        "# II. ПОДГОТОВКА РАБОЧЕЙ СРЕДЫ\n",
        "\n",
        "## 2.1 Импорт библиотек"
      ]
    },
    {
      "cell_type": "code",
      "execution_count": 1,
      "metadata": {},
      "outputs": [],
      "source": [
        "import pandas as pd\n",
        "import numpy as np\n",
        "import matplotlib.pyplot as plt\n",
        "import seaborn as sns\n",
        "\n",
        "from sklearn.preprocessing import StandardScaler, MinMaxScaler, PowerTransformer\n",
        "from sklearn.preprocessing import OrdinalEncoder, OneHotEncoder\n",
        "from sklearn.pipeline import Pipeline\n",
        "from sklearn.compose import ColumnTransformer\n",
        "from sklearn.base import BaseEstimator, TransformerMixin"
      ]
    },
    {
      "cell_type": "markdown",
      "metadata": {},
      "source": [
        "## 2.2 Загрузка данных"
      ]
    },
    {
      "cell_type": "code",
      "execution_count": 2,
      "metadata": {},
      "outputs": [
        {
          "name": "stdout",
          "output_type": "stream",
          "text": [
            "Размерность: (3000, 10)\n"
          ]
        },
        {
          "data": {
            "text/html": [
              "<div>\n",
              "<style scoped>\n",
              "    .dataframe tbody tr th:only-of-type {\n",
              "        vertical-align: middle;\n",
              "    }\n",
              "\n",
              "    .dataframe tbody tr th {\n",
              "        vertical-align: top;\n",
              "    }\n",
              "\n",
              "    .dataframe thead th {\n",
              "        text-align: right;\n",
              "    }\n",
              "</style>\n",
              "<table border=\"1\" class=\"dataframe\">\n",
              "  <thead>\n",
              "    <tr style=\"text-align: right;\">\n",
              "      <th></th>\n",
              "      <th>Country</th>\n",
              "      <th>Year</th>\n",
              "      <th>Attack Type</th>\n",
              "      <th>Target Industry</th>\n",
              "      <th>Financial Loss (in Million $)</th>\n",
              "      <th>Number of Affected Users</th>\n",
              "      <th>Attack Source</th>\n",
              "      <th>Security Vulnerability Type</th>\n",
              "      <th>Defense Mechanism Used</th>\n",
              "      <th>Incident Resolution Time (in Hours)</th>\n",
              "    </tr>\n",
              "  </thead>\n",
              "  <tbody>\n",
              "    <tr>\n",
              "      <th>0</th>\n",
              "      <td>China</td>\n",
              "      <td>2019</td>\n",
              "      <td>Phishing</td>\n",
              "      <td>Education</td>\n",
              "      <td>80.53</td>\n",
              "      <td>773169</td>\n",
              "      <td>Hacker Group</td>\n",
              "      <td>Unpatched Software</td>\n",
              "      <td>VPN</td>\n",
              "      <td>63</td>\n",
              "    </tr>\n",
              "    <tr>\n",
              "      <th>1</th>\n",
              "      <td>China</td>\n",
              "      <td>2019</td>\n",
              "      <td>Ransomware</td>\n",
              "      <td>Retail</td>\n",
              "      <td>62.19</td>\n",
              "      <td>295961</td>\n",
              "      <td>Hacker Group</td>\n",
              "      <td>Unpatched Software</td>\n",
              "      <td>Firewall</td>\n",
              "      <td>71</td>\n",
              "    </tr>\n",
              "    <tr>\n",
              "      <th>2</th>\n",
              "      <td>India</td>\n",
              "      <td>2017</td>\n",
              "      <td>Man-in-the-Middle</td>\n",
              "      <td>IT</td>\n",
              "      <td>38.65</td>\n",
              "      <td>605895</td>\n",
              "      <td>Hacker Group</td>\n",
              "      <td>Weak Passwords</td>\n",
              "      <td>VPN</td>\n",
              "      <td>20</td>\n",
              "    </tr>\n",
              "    <tr>\n",
              "      <th>3</th>\n",
              "      <td>UK</td>\n",
              "      <td>2024</td>\n",
              "      <td>Ransomware</td>\n",
              "      <td>Telecommunications</td>\n",
              "      <td>41.44</td>\n",
              "      <td>659320</td>\n",
              "      <td>Nation-state</td>\n",
              "      <td>Social Engineering</td>\n",
              "      <td>AI-based Detection</td>\n",
              "      <td>7</td>\n",
              "    </tr>\n",
              "    <tr>\n",
              "      <th>4</th>\n",
              "      <td>Germany</td>\n",
              "      <td>2018</td>\n",
              "      <td>Man-in-the-Middle</td>\n",
              "      <td>IT</td>\n",
              "      <td>74.41</td>\n",
              "      <td>810682</td>\n",
              "      <td>Insider</td>\n",
              "      <td>Social Engineering</td>\n",
              "      <td>VPN</td>\n",
              "      <td>68</td>\n",
              "    </tr>\n",
              "  </tbody>\n",
              "</table>\n",
              "</div>"
            ],
            "text/plain": [
              "   Country  Year        Attack Type     Target Industry  \\\n",
              "0    China  2019           Phishing           Education   \n",
              "1    China  2019         Ransomware              Retail   \n",
              "2    India  2017  Man-in-the-Middle                  IT   \n",
              "3       UK  2024         Ransomware  Telecommunications   \n",
              "4  Germany  2018  Man-in-the-Middle                  IT   \n",
              "\n",
              "   Financial Loss (in Million $)  Number of Affected Users Attack Source  \\\n",
              "0                          80.53                    773169  Hacker Group   \n",
              "1                          62.19                    295961  Hacker Group   \n",
              "2                          38.65                    605895  Hacker Group   \n",
              "3                          41.44                    659320  Nation-state   \n",
              "4                          74.41                    810682       Insider   \n",
              "\n",
              "  Security Vulnerability Type Defense Mechanism Used  \\\n",
              "0          Unpatched Software                    VPN   \n",
              "1          Unpatched Software               Firewall   \n",
              "2              Weak Passwords                    VPN   \n",
              "3          Social Engineering     AI-based Detection   \n",
              "4          Social Engineering                    VPN   \n",
              "\n",
              "   Incident Resolution Time (in Hours)  \n",
              "0                                   63  \n",
              "1                                   71  \n",
              "2                                   20  \n",
              "3                                    7  \n",
              "4                                   68  "
            ]
          },
          "execution_count": 2,
          "metadata": {},
          "output_type": "execute_result"
        }
      ],
      "source": [
        "path = 'data/global-cybersecurity-threats/GCT_20152024.csv'\n",
        "df = pd.read_csv(path, delimiter=',')\n",
        "\n",
        "print(f\"Размерность: {df.shape}\")\n",
        "df.head()"
      ]
    },
    {
      "cell_type": "markdown",
      "metadata": {},
      "source": [
        "# III. РАЗВЕДОЧНЫЙ АНАЛИЗ ДАННЫХ (EDA)\n",
        "\n",
        "## 3.1 Первичный осмотр данных"
      ]
    },
    {
      "cell_type": "code",
      "execution_count": 3,
      "metadata": {},
      "outputs": [
        {
          "name": "stdout",
          "output_type": "stream",
          "text": [
            "<class 'pandas.core.frame.DataFrame'>\n",
            "RangeIndex: 3000 entries, 0 to 2999\n",
            "Data columns (total 10 columns):\n",
            " #   Column                               Non-Null Count  Dtype  \n",
            "---  ------                               --------------  -----  \n",
            " 0   Country                              3000 non-null   object \n",
            " 1   Year                                 3000 non-null   int64  \n",
            " 2   Attack Type                          3000 non-null   object \n",
            " 3   Target Industry                      3000 non-null   object \n",
            " 4   Financial Loss (in Million $)        3000 non-null   float64\n",
            " 5   Number of Affected Users             3000 non-null   int64  \n",
            " 6   Attack Source                        3000 non-null   object \n",
            " 7   Security Vulnerability Type          3000 non-null   object \n",
            " 8   Defense Mechanism Used               3000 non-null   object \n",
            " 9   Incident Resolution Time (in Hours)  3000 non-null   int64  \n",
            "dtypes: float64(1), int64(3), object(6)\n",
            "memory usage: 234.5+ KB\n"
          ]
        }
      ],
      "source": [
        "df.info()"
      ]
    },
    {
      "cell_type": "code",
      "execution_count": 4,
      "metadata": {},
      "outputs": [
        {
          "name": "stdout",
          "output_type": "stream",
          "text": [
            "Пропуски: 0\n",
            "Дубликаты: 0\n"
          ]
        }
      ],
      "source": [
        "print(\"Пропуски:\", df.isnull().sum().sum())\n",
        "print(\"Дубликаты:\", df.duplicated().sum())"
      ]
    },
    {
      "cell_type": "code",
      "execution_count": 5,
      "metadata": {},
      "outputs": [
        {
          "name": "stdout",
          "output_type": "stream",
          "text": [
            "Категориальные (6): ['Country', 'Attack Type', 'Target Industry', 'Attack Source', 'Security Vulnerability Type', 'Defense Mechanism Used']\n",
            "Числовые (4): ['Year', 'Financial Loss (in Million $)', 'Number of Affected Users', 'Incident Resolution Time (in Hours)']\n"
          ]
        }
      ],
      "source": [
        "cat_columns = [col for col in df.columns if df[col].dtype == 'object']\n",
        "num_columns = [col for col in df.columns if df[col].dtype != 'object']\n",
        "\n",
        "print(f\"Категориальные ({len(cat_columns)}): {cat_columns}\")\n",
        "print(f\"Числовые ({len(num_columns)}): {num_columns}\")"
      ]
    },
    {
      "cell_type": "markdown",
      "metadata": {},
      "source": [
        "## 3.2 Анализ дубликатов"
      ]
    },
    {
      "cell_type": "code",
      "execution_count": 6,
      "metadata": {},
      "outputs": [
        {
          "name": "stdout",
          "output_type": "stream",
          "text": [
            "Дубликаты не обнаружены\n"
          ]
        }
      ],
      "source": [
        "duplicates = df.duplicated().sum()\n",
        "if duplicates > 0:\n",
        "    df = df.drop_duplicates().reset_index(drop=True)\n",
        "    print(f\"Удалено {duplicates} дубликатов\")\n",
        "else:\n",
        "    print(\"Дубликаты не обнаружены\")"
      ]
    },
    {
      "cell_type": "markdown",
      "metadata": {},
      "source": [
        "## 3.3 Анализ числовых признаков"
      ]
    },
    {
      "cell_type": "code",
      "execution_count": 7,
      "metadata": {},
      "outputs": [
        {
          "data": {
            "text/html": [
              "<div>\n",
              "<style scoped>\n",
              "    .dataframe tbody tr th:only-of-type {\n",
              "        vertical-align: middle;\n",
              "    }\n",
              "\n",
              "    .dataframe tbody tr th {\n",
              "        vertical-align: top;\n",
              "    }\n",
              "\n",
              "    .dataframe thead th {\n",
              "        text-align: right;\n",
              "    }\n",
              "</style>\n",
              "<table border=\"1\" class=\"dataframe\">\n",
              "  <thead>\n",
              "    <tr style=\"text-align: right;\">\n",
              "      <th></th>\n",
              "      <th>Year</th>\n",
              "      <th>Financial Loss (in Million $)</th>\n",
              "      <th>Number of Affected Users</th>\n",
              "      <th>Incident Resolution Time (in Hours)</th>\n",
              "    </tr>\n",
              "  </thead>\n",
              "  <tbody>\n",
              "    <tr>\n",
              "      <th>count</th>\n",
              "      <td>3000.000000</td>\n",
              "      <td>3000.000000</td>\n",
              "      <td>3000.000000</td>\n",
              "      <td>3000.000000</td>\n",
              "    </tr>\n",
              "    <tr>\n",
              "      <th>mean</th>\n",
              "      <td>2019.570333</td>\n",
              "      <td>50.492970</td>\n",
              "      <td>504684.136333</td>\n",
              "      <td>36.476000</td>\n",
              "    </tr>\n",
              "    <tr>\n",
              "      <th>std</th>\n",
              "      <td>2.857932</td>\n",
              "      <td>28.791415</td>\n",
              "      <td>289944.084972</td>\n",
              "      <td>20.570768</td>\n",
              "    </tr>\n",
              "    <tr>\n",
              "      <th>min</th>\n",
              "      <td>2015.000000</td>\n",
              "      <td>0.500000</td>\n",
              "      <td>424.000000</td>\n",
              "      <td>1.000000</td>\n",
              "    </tr>\n",
              "    <tr>\n",
              "      <th>25%</th>\n",
              "      <td>2017.000000</td>\n",
              "      <td>25.757500</td>\n",
              "      <td>255805.250000</td>\n",
              "      <td>19.000000</td>\n",
              "    </tr>\n",
              "    <tr>\n",
              "      <th>50%</th>\n",
              "      <td>2020.000000</td>\n",
              "      <td>50.795000</td>\n",
              "      <td>504513.000000</td>\n",
              "      <td>37.000000</td>\n",
              "    </tr>\n",
              "    <tr>\n",
              "      <th>75%</th>\n",
              "      <td>2022.000000</td>\n",
              "      <td>75.630000</td>\n",
              "      <td>758088.500000</td>\n",
              "      <td>55.000000</td>\n",
              "    </tr>\n",
              "    <tr>\n",
              "      <th>max</th>\n",
              "      <td>2024.000000</td>\n",
              "      <td>99.990000</td>\n",
              "      <td>999635.000000</td>\n",
              "      <td>72.000000</td>\n",
              "    </tr>\n",
              "  </tbody>\n",
              "</table>\n",
              "</div>"
            ],
            "text/plain": [
              "              Year  Financial Loss (in Million $)  Number of Affected Users  \\\n",
              "count  3000.000000                    3000.000000               3000.000000   \n",
              "mean   2019.570333                      50.492970             504684.136333   \n",
              "std       2.857932                      28.791415             289944.084972   \n",
              "min    2015.000000                       0.500000                424.000000   \n",
              "25%    2017.000000                      25.757500             255805.250000   \n",
              "50%    2020.000000                      50.795000             504513.000000   \n",
              "75%    2022.000000                      75.630000             758088.500000   \n",
              "max    2024.000000                      99.990000             999635.000000   \n",
              "\n",
              "       Incident Resolution Time (in Hours)  \n",
              "count                          3000.000000  \n",
              "mean                             36.476000  \n",
              "std                              20.570768  \n",
              "min                               1.000000  \n",
              "25%                              19.000000  \n",
              "50%                              37.000000  \n",
              "75%                              55.000000  \n",
              "max                              72.000000  "
            ]
          },
          "execution_count": 7,
          "metadata": {},
          "output_type": "execute_result"
        }
      ],
      "source": [
        "df.describe()"
      ]
    },
    {
      "cell_type": "code",
      "execution_count": 8,
      "metadata": {},
      "outputs": [
        {
          "data": {
            "image/png": "[encoded data removed]",
            "text/plain": [
              "<Figure size 1600x800 with 4 Axes>"
            ]
          },
          "metadata": {},
          "output_type": "display_data"
        }
      ],
      "source": [
        "width, height = 2, int(np.ceil(len(num_columns)/2))\n",
        "fig, axes = plt.subplots(height, width, figsize=(16, 4*height))\n",
        "axes = axes.flatten()\n",
        "\n",
        "for idx, col in enumerate(num_columns):\n",
        "    sns.histplot(data=df, x=col, bins=20, ax=axes[idx])\n",
        "    axes[idx].set_title(col)\n",
        "\n",
        "plt.tight_layout()\n",
        "plt.show()"
      ]
    },
    {
      "cell_type": "markdown",
      "metadata": {},
      "source": [
        "## 3.4 Анализ категориальных признаков"
      ]
    },
    {
      "cell_type": "code",
      "execution_count": 9,
      "metadata": {},
      "outputs": [
        {
          "name": "stdout",
          "output_type": "stream",
          "text": [
            "\n",
            "Country: 10 уникальных значений\n",
            "Country\n",
            "UK        321\n",
            "Brazil    310\n",
            "India     308\n",
            "France    305\n",
            "Japan     305\n",
            "Name: count, dtype: int64\n",
            "\n",
            "Attack Type: 6 уникальных значений\n",
            "Attack Type\n",
            "DDoS             531\n",
            "Phishing         529\n",
            "SQL Injection    503\n",
            "Ransomware       493\n",
            "Malware          485\n",
            "Name: count, dtype: int64\n",
            "\n",
            "Target Industry: 7 уникальных значений\n",
            "Target Industry\n",
            "IT            478\n",
            "Banking       445\n",
            "Healthcare    429\n",
            "Retail        423\n",
            "Education     419\n",
            "Name: count, dtype: int64\n",
            "\n",
            "Attack Source: 4 уникальных значений\n",
            "Attack Source\n",
            "Nation-state    794\n",
            "Unknown         768\n",
            "Insider         752\n",
            "Hacker Group    686\n",
            "Name: count, dtype: int64\n",
            "\n",
            "Security Vulnerability Type: 4 уникальных значений\n",
            "Security Vulnerability Type\n",
            "Zero-day              785\n",
            "Social Engineering    747\n",
            "Unpatched Software    738\n",
            "Weak Passwords        730\n",
            "Name: count, dtype: int64\n",
            "\n",
            "Defense Mechanism Used: 5 уникальных значений\n",
            "Defense Mechanism Used\n",
            "Antivirus             628\n",
            "VPN                   612\n",
            "Encryption            592\n",
            "Firewall              585\n",
            "AI-based Detection    583\n",
            "Name: count, dtype: int64\n"
          ]
        }
      ],
      "source": [
        "for col in cat_columns:\n",
        "    print(f\"\\n{col}: {df[col].nunique()} уникальных значений\")\n",
        "    print(df[col].value_counts()[:5])"
      ]
    },
    {
      "cell_type": "markdown",
      "metadata": {},
      "source": [
        "## 3.5 Визуализация зависимостей"
      ]
    },
    {
      "cell_type": "code",
      "execution_count": 10,
      "metadata": {},
      "outputs": [
        {
          "data": {
            "image/png": "[encoded data removed]",
            "text/plain": [
              "<Figure size 1000x800 with 2 Axes>"
            ]
          },
          "metadata": {},
          "output_type": "display_data"
        }
      ],
      "source": [
        "corr_matrix = df[num_columns].corr()\n",
        "plt.figure(figsize=(10, 8))\n",
        "sns.heatmap(corr_matrix, annot=True, cmap='coolwarm', center=0, fmt='.2f')\n",
        "plt.title('Корреляционная матрица')\n",
        "plt.tight_layout()\n",
        "plt.show()"
      ]
    },
    {
      "cell_type": "markdown",
      "metadata": {},
      "source": [
        "# IV. ОЧИСТКА И ПРЕДОБРАБОТКА ДАННЫХ\n",
        "\n",
        "## 4.1 Очистка данных"
      ]
    },
    {
      "cell_type": "code",
      "execution_count": 11,
      "metadata": {},
      "outputs": [
        {
          "name": "stdout",
          "output_type": "stream",
          "text": [
            "Анализ выбросов:\n",
            "Year: 0 выбросов\n",
            "Financial Loss (in Million $): 0 выбросов\n",
            "Number of Affected Users: 0 выбросов\n",
            "Incident Resolution Time (in Hours): 0 выбросов\n"
          ]
        }
      ],
      "source": [
        "def detect_outliers_iqr(series):\n",
        "    Q1 = series.quantile(0.25)\n",
        "    Q3 = series.quantile(0.75)\n",
        "    IQR = Q3 - Q1\n",
        "    lower_bound = Q1 - 1.5 * IQR\n",
        "    upper_bound = Q3 + 1.5 * IQR\n",
        "    outliers = series[(series < lower_bound) | (series > upper_bound)]\n",
        "    return outliers, lower_bound, upper_bound\n",
        "\n",
        "print(\"Анализ выбросов:\")\n",
        "for col in num_columns:\n",
        "    outliers, lb, ub = detect_outliers_iqr(df[col])\n",
        "    print(f\"{col}: {len(outliers)} выбросов\")"
      ]
    },
    {
      "cell_type": "markdown",
      "metadata": {},
      "source": [
        "## 4.2 Feature Engineering"
      ]
    },
    {
      "cell_type": "code",
      "execution_count": 12,
      "metadata": {},
      "outputs": [
        {
          "name": "stdout",
          "output_type": "stream",
          "text": [
            "Добавлен признак: Years_From_2015\n"
          ]
        },
        {
          "data": {
            "text/html": [
              "<div>\n",
              "<style scoped>\n",
              "    .dataframe tbody tr th:only-of-type {\n",
              "        vertical-align: middle;\n",
              "    }\n",
              "\n",
              "    .dataframe tbody tr th {\n",
              "        vertical-align: top;\n",
              "    }\n",
              "\n",
              "    .dataframe thead th {\n",
              "        text-align: right;\n",
              "    }\n",
              "</style>\n",
              "<table border=\"1\" class=\"dataframe\">\n",
              "  <thead>\n",
              "    <tr style=\"text-align: right;\">\n",
              "      <th></th>\n",
              "      <th>Year</th>\n",
              "      <th>Years_From_2015</th>\n",
              "    </tr>\n",
              "  </thead>\n",
              "  <tbody>\n",
              "    <tr>\n",
              "      <th>0</th>\n",
              "      <td>2019</td>\n",
              "      <td>4</td>\n",
              "    </tr>\n",
              "    <tr>\n",
              "      <th>1</th>\n",
              "      <td>2019</td>\n",
              "      <td>4</td>\n",
              "    </tr>\n",
              "    <tr>\n",
              "      <th>2</th>\n",
              "      <td>2017</td>\n",
              "      <td>2</td>\n",
              "    </tr>\n",
              "    <tr>\n",
              "      <th>3</th>\n",
              "      <td>2024</td>\n",
              "      <td>9</td>\n",
              "    </tr>\n",
              "    <tr>\n",
              "      <th>4</th>\n",
              "      <td>2018</td>\n",
              "      <td>3</td>\n",
              "    </tr>\n",
              "  </tbody>\n",
              "</table>\n",
              "</div>"
            ],
            "text/plain": [
              "   Year  Years_From_2015\n",
              "0  2019                4\n",
              "1  2019                4\n",
              "2  2017                2\n",
              "3  2024                9\n",
              "4  2018                3"
            ]
          },
          "execution_count": 12,
          "metadata": {},
          "output_type": "execute_result"
        }
      ],
      "source": [
        "df_cleaned = df.copy()\n",
        "df_cleaned['Years_From_2015'] = df_cleaned['Year'] - 2015\n",
        "print(\"Добавлен признак: Years_From_2015\")\n",
        "df_cleaned[['Year', 'Years_From_2015']].head()"
      ]
    },
    {
      "cell_type": "markdown",
      "metadata": {},
      "source": [
        "# V. ПРЕОБРАЗОВАНИЕ ПРИЗНАКОВ\n",
        "\n",
        "## 5.1 Нелинейное преобразование (PowerTransformer)"
      ]
    },
    {
      "cell_type": "code",
      "execution_count": 13,
      "metadata": {},
      "outputs": [
        {
          "name": "stdout",
          "output_type": "stream",
          "text": [
            "Новая размерность: (3000, 15)\n"
          ]
        }
      ],
      "source": [
        "df_normalized = df_cleaned.copy()\n",
        "transformers = {}\n",
        "\n",
        "for col in num_columns:\n",
        "    pt = PowerTransformer(method='yeo-johnson')\n",
        "    transformed = pt.fit_transform(df_cleaned[[col]])\n",
        "    transformers[col] = pt\n",
        "    df_normalized[f'{col}_normalized'] = transformed\n",
        "\n",
        "print(f\"Новая размерность: {df_normalized.shape}\")"
      ]
    },
    {
      "cell_type": "markdown",
      "metadata": {},
      "source": [
        "## 5.2 Преобразование категориальных признаков\n",
        "\n",
        "### One-Hot кодирование"
      ]
    },
    {
      "cell_type": "code",
      "execution_count": 14,
      "metadata": {},
      "outputs": [
        {
          "name": "stdout",
          "output_type": "stream",
          "text": [
            "Признак: Country\n",
            "Создано признаков: 10\n"
          ]
        }
      ],
      "source": [
        "onehot_encoder = OneHotEncoder(drop='if_binary', handle_unknown='ignore', sparse_output=False)\n",
        "sample_cat = cat_columns[0]\n",
        "onehot_encoded = onehot_encoder.fit_transform(df_cleaned[[sample_cat]])\n",
        "\n",
        "feature_names = onehot_encoder.get_feature_names_out([sample_cat])\n",
        "print(f\"Признак: {sample_cat}\")\n",
        "print(f\"Создано признаков: {len(feature_names)}\")"
      ]
    },
    {
      "cell_type": "markdown",
      "metadata": {},
      "source": [
        "# VI. АВТОМАТИЗАЦИЯ ПРЕДОБРАБОТКИ (PIPELINE)\n",
        "\n",
        "## 6.1 Создание собственных трансформеров"
      ]
    },
    {
      "cell_type": "code",
      "execution_count": 15,
      "metadata": {},
      "outputs": [
        {
          "name": "stdout",
          "output_type": "stream",
          "text": [
            "QuantileReplacer создан\n"
          ]
        }
      ],
      "source": [
        "class QuantileReplacer(BaseEstimator, TransformerMixin):\n",
        "    def __init__(self, lower_quantile=0.05, upper_quantile=0.95):\n",
        "        self.lower_quantile = lower_quantile\n",
        "        self.upper_quantile = upper_quantile\n",
        "    \n",
        "    def fit(self, X, y=None):\n",
        "        self.lower_bound = np.quantile(X, self.lower_quantile)\n",
        "        self.upper_bound = np.quantile(X, self.upper_quantile)\n",
        "        return self\n",
        "    \n",
        "    def transform(self, X):\n",
        "        X = X.copy()\n",
        "        X[X < self.lower_bound] = self.lower_bound\n",
        "        X[X > self.upper_bound] = self.upper_bound\n",
        "        return X\n",
        "\n",
        "print(\"QuantileReplacer создан\")"
      ]
    },
    {
      "cell_type": "code",
      "execution_count": 16,
      "metadata": {},
      "outputs": [
        {
          "name": "stdout",
          "output_type": "stream",
          "text": [
            "RareGrouper создан\n"
          ]
        }
      ],
      "source": [
        "class RareGrouper(BaseEstimator, TransformerMixin):\n",
        "    def __init__(self, threshold=0.05):\n",
        "        self.threshold = threshold\n",
        "    \n",
        "    def fit(self, X, y=None):\n",
        "        X = np.array(X).flatten()\n",
        "        value_counts = pd.Series(X).value_counts()\n",
        "        self.common_categories = value_counts[value_counts / len(X) >= self.threshold].index.tolist()\n",
        "        return self\n",
        "    \n",
        "    def transform(self, X):\n",
        "        X = pd.Series(np.array(X).flatten())\n",
        "        X = X.where(X.isin(self.common_categories), 'Rare')\n",
        "        return np.array(X).reshape(-1, 1)\n",
        "\n",
        "print(\"RareGrouper создан\")"
      ]
    },
    {
      "cell_type": "markdown",
      "metadata": {},
      "source": [
        "## 6.2 Построение Pipeline"
      ]
    },
    {
      "cell_type": "code",
      "execution_count": 17,
      "metadata": {},
      "outputs": [
        {
          "name": "stdout",
          "output_type": "stream",
          "text": [
            "Pipeline создан\n"
          ]
        }
      ],
      "source": [
        "numeric_pipeline = Pipeline([\n",
        "    ('scaler', PowerTransformer(method='yeo-johnson'))\n",
        "])\n",
        "\n",
        "categorical_pipeline = Pipeline([\n",
        "    ('onehot', OneHotEncoder(drop='if_binary', handle_unknown='ignore', sparse_output=False))\n",
        "])\n",
        "\n",
        "print(\"Pipeline создан\")"
      ]
    },
    {
      "cell_type": "markdown",
      "metadata": {},
      "source": [
        "## 6.3 ColumnTransformer"
      ]
    },
    {
      "cell_type": "code",
      "execution_count": 18,
      "metadata": {},
      "outputs": [
        {
          "name": "stdout",
          "output_type": "stream",
          "text": [
            "Исходная размерность: (3000, 10)\n",
            "Преобразованная размерность: (3000, 39)\n",
            "Создано признаков: 39\n"
          ]
        }
      ],
      "source": [
        "target = 'Financial Loss (in Million $)'\n",
        "numeric_features = [col for col in num_columns if col != target]\n",
        "\n",
        "preprocessor = ColumnTransformer(\n",
        "    transformers=[\n",
        "        ('num', numeric_pipeline, numeric_features),\n",
        "        ('cat', categorical_pipeline, cat_columns)\n",
        "    ],\n",
        "    remainder='drop'\n",
        ")\n",
        "\n",
        "X = df_cleaned.drop(columns=[target])\n",
        "y = df_cleaned[target]\n",
        "\n",
        "X_transformed = preprocessor.fit_transform(X)\n",
        "feature_names = preprocessor.get_feature_names_out()\n",
        "\n",
        "print(f\"Исходная размерность: {X.shape}\")\n",
        "print(f\"Преобразованная размерность: {X_transformed.shape}\")\n",
        "print(f\"Создано признаков: {len(feature_names)}\")"
      ]
    },
    {
      "cell_type": "markdown",
      "metadata": {},
      "source": [
        "# VII. СОХРАНЕНИЕ РЕЗУЛЬТАТОВ"
      ]
    },
    {
      "cell_type": "code",
      "execution_count": null,
      "metadata": {},
      "outputs": [],
      "source": [
        "df_processed = pd.DataFrame(X_transformed, columns=feature_names)\n",
        "df_processed['Financial_Loss'] = y.values\n",
        "\n",
        "df_processed.to_csv('processed_data.csv', index=False)\n",
        "print(\"Данные сохранены в processed_data.csv\")\n",
        "print(f\"Итоговая размерность: {df_processed.shape}\")"
      ]
    },
    {
      "cell_type": "markdown",
      "metadata": {},
      "source": [
        "# VIII. ВЫВОДЫ И РЕКОМЕНДАЦИИ\n",
        "\n",
        "## 8.1 Краткое резюме\n",
        "\n",
        "### Основные этапы:\n",
        "1. Загрузка данных (3000 записей, 10 признаков)\n",
        "2. EDA - разведочный анализ данных\n",
        "3. Очистка от выбросов\n",
        "4. Применение PowerTransformer для числовых признаков\n",
        "5. One-Hot кодирование для категориальных признаков\n",
        "6. Создание Pipeline для воспроизводимости"
      ]
    },
    {
      "cell_type": "markdown",
      "metadata": {},
      "source": [
        "## 8.2 Интерпретация визуализаций\n",
        "\n",
        "- Financial Loss коррелирует с количеством затронутых пользователей\n",
        "- Различные типы атак показывают разные уровни потерь\n",
        "- Время разрешения влияет на финансовые потери"
      ]
    },
    {
      "cell_type": "markdown",
      "metadata": {},
      "source": [
        "## 8.3 Рекомендации для моделирования\n",
        "\n",
        "### Информативные признаки:\n",
        "- Number of Affected Users\n",
        "- Attack Type\n",
        "- Incident Resolution Time\n",
        "\n",
        "### Эффективные преобразования:\n",
        "- PowerTransformer для числовых признаков\n",
        "- OneHotEncoder для категориальных\n",
        "\n",
        "### Следующие шаги:\n",
        "1. Разделение на train/test\n",
        "2. Обучение моделей (LinearRegression, RandomForest)\n",
        "3. Оценка качества (R², RMSE, MAE)\n",
        "4. Оптимизация гиперпараметров"
      ]
    }
  ],
  "metadata": {
    "kernelspec": {
      "display_name": "venv",
      "language": "python",
      "name": "python3"
    },
    "language_info": {
      "codemirror_mode": {
        "name": "ipython",
        "version": 3
      },
      "file_extension": ".py",
      "mimetype": "text/x-python",
      "name": "python",
      "nbconvert_exporter": "python",
      "pygments_lexer": "ipython3",
      "version": "3.13.7"
    }
  },
  "nbformat": 4,
  "nbformat_minor": 4
}
